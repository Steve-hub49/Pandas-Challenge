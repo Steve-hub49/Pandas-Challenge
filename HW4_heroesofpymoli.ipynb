{
 "cells": [
  {
   "cell_type": "code",
   "execution_count": 1,
   "metadata": {},
   "outputs": [],
   "source": [
    "# import dependencies\n",
    "import pandas as pd\n",
    "import numpy as np\n",
    "import json\n",
    "import os\n",
    "import csv"
   ]
  },
  {
   "cell_type": "code",
   "execution_count": 2,
   "metadata": {},
   "outputs": [],
   "source": [
    "# raw data file\n",
    "file_to_load = \"Resources/purchase_data.csv\""
   ]
  },
  {
   "cell_type": "code",
   "execution_count": 3,
   "metadata": {},
   "outputs": [],
   "source": [
    "# read purchasing file and store into pandas data frame\n",
    "purchase_data = pd.read_csv(file_to_load)"
   ]
  },
  {
   "cell_type": "code",
   "execution_count": 4,
   "metadata": {},
   "outputs": [],
   "source": [
    "# PLAYER COUNT\n",
    "# use the length of screen names list \"SN\" for total players.\n",
    "total_players = len(purchase_data[\"SN\"].value_counts())"
   ]
  },
  {
   "cell_type": "code",
   "execution_count": 5,
   "metadata": {},
   "outputs": [
    {
     "data": {
      "text/html": [
       "<div>\n",
       "<style scoped>\n",
       "    .dataframe tbody tr th:only-of-type {\n",
       "        vertical-align: middle;\n",
       "    }\n",
       "\n",
       "    .dataframe tbody tr th {\n",
       "        vertical-align: top;\n",
       "    }\n",
       "\n",
       "    .dataframe thead th {\n",
       "        text-align: right;\n",
       "    }\n",
       "</style>\n",
       "<table border=\"1\" class=\"dataframe\">\n",
       "  <thead>\n",
       "    <tr style=\"text-align: right;\">\n",
       "      <th></th>\n",
       "      <th>Total Players</th>\n",
       "    </tr>\n",
       "  </thead>\n",
       "  <tbody>\n",
       "    <tr>\n",
       "      <th>0</th>\n",
       "      <td>576</td>\n",
       "    </tr>\n",
       "  </tbody>\n",
       "</table>\n",
       "</div>"
      ],
      "text/plain": [
       "   Total Players\n",
       "0            576"
      ]
     },
     "execution_count": 5,
     "metadata": {},
     "output_type": "execute_result"
    }
   ],
   "source": [
    "# create a data frame with total players named player count\n",
    "player_count = pd.DataFrame({\"Total Players\":[total_players]})\n",
    "player_count"
   ]
  },
  {
   "cell_type": "code",
   "execution_count": 6,
   "metadata": {},
   "outputs": [],
   "source": [
    "# PURCHASING ANALYSIS (TOTAL)\n",
    "# run basic calculations for unique items, average price, number of purchases, and total revenue\n",
    "number_of_unique_items = len((purchase_data[\"Item ID\"]).unique())\n",
    "average_price = (purchase_data[\"Price\"]).mean()\n",
    "number_of_purchases = (purchase_data[\"Purchase ID\"]).count()\n",
    "total_revenue = (purchase_data[\"Price\"]).sum()"
   ]
  },
  {
   "cell_type": "code",
   "execution_count": 7,
   "metadata": {},
   "outputs": [],
   "source": [
    "# create a summary data frame to hold the results\n",
    "summary_df = pd.DataFrame({\"Number of Unique Items\":[number_of_unique_items],\n",
    "                           \"Average Price\":[average_price], \n",
    "                           \"Number of Purchases\": [number_of_purchases], \n",
    "                           \"Total Revenue\": [total_revenue]})"
   ]
  },
  {
   "cell_type": "code",
   "execution_count": 8,
   "metadata": {
    "scrolled": false
   },
   "outputs": [
    {
     "data": {
      "text/html": [
       "<style  type=\"text/css\" >\n",
       "</style><table id=\"T_9f7a20cc_f306_11ea_83c2_90324b3feb1a\" ><thead>    <tr>        <th class=\"blank level0\" ></th>        <th class=\"col_heading level0 col0\" >Number of Unique Items</th>        <th class=\"col_heading level0 col1\" >Average Price</th>        <th class=\"col_heading level0 col2\" >Number of Purchases</th>        <th class=\"col_heading level0 col3\" >Total Revenue</th>    </tr></thead><tbody>\n",
       "                <tr>\n",
       "                        <th id=\"T_9f7a20cc_f306_11ea_83c2_90324b3feb1alevel0_row0\" class=\"row_heading level0 row0\" >0</th>\n",
       "                        <td id=\"T_9f7a20cc_f306_11ea_83c2_90324b3feb1arow0_col0\" class=\"data row0 col0\" >179</td>\n",
       "                        <td id=\"T_9f7a20cc_f306_11ea_83c2_90324b3feb1arow0_col1\" class=\"data row0 col1\" >$3.05</td>\n",
       "                        <td id=\"T_9f7a20cc_f306_11ea_83c2_90324b3feb1arow0_col2\" class=\"data row0 col2\" >780</td>\n",
       "                        <td id=\"T_9f7a20cc_f306_11ea_83c2_90324b3feb1arow0_col3\" class=\"data row0 col3\" >$2,379.77</td>\n",
       "            </tr>\n",
       "    </tbody></table>"
      ],
      "text/plain": [
       "<pandas.io.formats.style.Styler at 0x2cfd96b60d0>"
      ]
     },
     "execution_count": 8,
     "metadata": {},
     "output_type": "execute_result"
    }
   ],
   "source": [
    "# give displayed data a cleaner formatting (currency style)\n",
    "summary_df.style.format({'Average Price':\"${:,.2f}\",\n",
    "                         'Total Revenue': '${:,.2f}'})"
   ]
  },
  {
   "cell_type": "code",
   "execution_count": 9,
   "metadata": {},
   "outputs": [],
   "source": [
    "# GENDER DEMOGRAPHICS\n",
    "# group purchase data by gender\n",
    "gender_stats = purchase_data.groupby(\"Gender\")"
   ]
  },
  {
   "cell_type": "code",
   "execution_count": 10,
   "metadata": {},
   "outputs": [],
   "source": [
    "# count total of screen names \"SN\" by gender\n",
    "total_count_gender = gender_stats.nunique()[\"SN\"]"
   ]
  },
  {
   "cell_type": "code",
   "execution_count": 11,
   "metadata": {},
   "outputs": [],
   "source": [
    "# total count by gender and divivde by total players \n",
    "percentage_of_players = total_count_gender / total_players * 100"
   ]
  },
  {
   "cell_type": "code",
   "execution_count": 12,
   "metadata": {},
   "outputs": [],
   "source": [
    "# create data frame with obtained values\n",
    "gender_demographics = pd.DataFrame({\"Percentage of Players\": percentage_of_players, \"Total Count\": total_count_gender})"
   ]
  },
  {
   "cell_type": "code",
   "execution_count": 13,
   "metadata": {},
   "outputs": [],
   "source": [
    "# format the data frame with no index name in the corner\n",
    "gender_demographics.index.name = None"
   ]
  },
  {
   "cell_type": "code",
   "execution_count": 14,
   "metadata": {},
   "outputs": [
    {
     "data": {
      "text/html": [
       "<style  type=\"text/css\" >\n",
       "</style><table id=\"T_a1bd1599_f306_11ea_9f44_90324b3feb1a\" ><thead>    <tr>        <th class=\"blank level0\" ></th>        <th class=\"col_heading level0 col0\" >Percentage of Players</th>        <th class=\"col_heading level0 col1\" >Total Count</th>    </tr></thead><tbody>\n",
       "                <tr>\n",
       "                        <th id=\"T_a1bd1599_f306_11ea_9f44_90324b3feb1alevel0_row0\" class=\"row_heading level0 row0\" >Male</th>\n",
       "                        <td id=\"T_a1bd1599_f306_11ea_9f44_90324b3feb1arow0_col0\" class=\"data row0 col0\" >84.03</td>\n",
       "                        <td id=\"T_a1bd1599_f306_11ea_9f44_90324b3feb1arow0_col1\" class=\"data row0 col1\" >484</td>\n",
       "            </tr>\n",
       "            <tr>\n",
       "                        <th id=\"T_a1bd1599_f306_11ea_9f44_90324b3feb1alevel0_row1\" class=\"row_heading level0 row1\" >Female</th>\n",
       "                        <td id=\"T_a1bd1599_f306_11ea_9f44_90324b3feb1arow1_col0\" class=\"data row1 col0\" >14.06</td>\n",
       "                        <td id=\"T_a1bd1599_f306_11ea_9f44_90324b3feb1arow1_col1\" class=\"data row1 col1\" >81</td>\n",
       "            </tr>\n",
       "            <tr>\n",
       "                        <th id=\"T_a1bd1599_f306_11ea_9f44_90324b3feb1alevel0_row2\" class=\"row_heading level0 row2\" >Other / Non-Disclosed</th>\n",
       "                        <td id=\"T_a1bd1599_f306_11ea_9f44_90324b3feb1arow2_col0\" class=\"data row2 col0\" >1.91</td>\n",
       "                        <td id=\"T_a1bd1599_f306_11ea_9f44_90324b3feb1arow2_col1\" class=\"data row2 col1\" >11</td>\n",
       "            </tr>\n",
       "    </tbody></table>"
      ],
      "text/plain": [
       "<pandas.io.formats.style.Styler at 0x2cfda7f3820>"
      ]
     },
     "execution_count": 14,
     "metadata": {},
     "output_type": "execute_result"
    }
   ],
   "source": [
    "# format the values sorted by total count in descending order with two decimal places for the percentage\n",
    "gender_demographics.sort_values([\"Total Count\"], ascending = False).style.format({\"Percentage of Players\":\"{:.2f}\"})"
   ]
  },
  {
   "cell_type": "code",
   "execution_count": 15,
   "metadata": {},
   "outputs": [],
   "source": [
    "# PURCHASING ANALYSIS (GENDER)\n",
    "# run basic calculations for total purchases, average price, number of purchases, and total revenue\n",
    "purchase_count = gender_stats[\"Purchase ID\"].count()\n",
    "avg_purchase_price = gender_stats[\"Price\"].mean()\n",
    "avg_purchase_total = gender_stats[\"Price\"].sum()\n",
    "avg_purchase_per_person = avg_purchase_total/total_count_gender"
   ]
  },
  {
   "cell_type": "code",
   "execution_count": 16,
   "metadata": {},
   "outputs": [],
   "source": [
    "# create data frame with obtained values \n",
    "gender_demographics = pd.DataFrame({\"Purchase Count\": purchase_count, \n",
    "                                    \"Average Purchase Price\": avg_purchase_price,\n",
    "                                    \"Total Purchase Value\":avg_purchase_total,\n",
    "                                    \"Avg Purchase Total per Person\": avg_purchase_per_person})"
   ]
  },
  {
   "cell_type": "code",
   "execution_count": 17,
   "metadata": {},
   "outputs": [],
   "source": [
    "# provide index in top left as \"Gender\"\n",
    "gender_demographics.index.name = \"Gender\""
   ]
  },
  {
   "cell_type": "code",
   "execution_count": 18,
   "metadata": {},
   "outputs": [
    {
     "data": {
      "text/html": [
       "<style  type=\"text/css\" >\n",
       "</style><table id=\"T_a4c241ed_f306_11ea_b0b3_90324b3feb1a\" ><thead>    <tr>        <th class=\"blank level0\" ></th>        <th class=\"col_heading level0 col0\" >Purchase Count</th>        <th class=\"col_heading level0 col1\" >Average Purchase Price</th>        <th class=\"col_heading level0 col2\" >Total Purchase Value</th>        <th class=\"col_heading level0 col3\" >Avg Purchase Total per Person</th>    </tr>    <tr>        <th class=\"index_name level0\" >Gender</th>        <th class=\"blank\" ></th>        <th class=\"blank\" ></th>        <th class=\"blank\" ></th>        <th class=\"blank\" ></th>    </tr></thead><tbody>\n",
       "                <tr>\n",
       "                        <th id=\"T_a4c241ed_f306_11ea_b0b3_90324b3feb1alevel0_row0\" class=\"row_heading level0 row0\" >Female</th>\n",
       "                        <td id=\"T_a4c241ed_f306_11ea_b0b3_90324b3feb1arow0_col0\" class=\"data row0 col0\" >113</td>\n",
       "                        <td id=\"T_a4c241ed_f306_11ea_b0b3_90324b3feb1arow0_col1\" class=\"data row0 col1\" >$3.20</td>\n",
       "                        <td id=\"T_a4c241ed_f306_11ea_b0b3_90324b3feb1arow0_col2\" class=\"data row0 col2\" >361.940000</td>\n",
       "                        <td id=\"T_a4c241ed_f306_11ea_b0b3_90324b3feb1arow0_col3\" class=\"data row0 col3\" >$4.47</td>\n",
       "            </tr>\n",
       "            <tr>\n",
       "                        <th id=\"T_a4c241ed_f306_11ea_b0b3_90324b3feb1alevel0_row1\" class=\"row_heading level0 row1\" >Male</th>\n",
       "                        <td id=\"T_a4c241ed_f306_11ea_b0b3_90324b3feb1arow1_col0\" class=\"data row1 col0\" >652</td>\n",
       "                        <td id=\"T_a4c241ed_f306_11ea_b0b3_90324b3feb1arow1_col1\" class=\"data row1 col1\" >$3.02</td>\n",
       "                        <td id=\"T_a4c241ed_f306_11ea_b0b3_90324b3feb1arow1_col2\" class=\"data row1 col2\" >1967.640000</td>\n",
       "                        <td id=\"T_a4c241ed_f306_11ea_b0b3_90324b3feb1arow1_col3\" class=\"data row1 col3\" >$4.07</td>\n",
       "            </tr>\n",
       "            <tr>\n",
       "                        <th id=\"T_a4c241ed_f306_11ea_b0b3_90324b3feb1alevel0_row2\" class=\"row_heading level0 row2\" >Other / Non-Disclosed</th>\n",
       "                        <td id=\"T_a4c241ed_f306_11ea_b0b3_90324b3feb1arow2_col0\" class=\"data row2 col0\" >15</td>\n",
       "                        <td id=\"T_a4c241ed_f306_11ea_b0b3_90324b3feb1arow2_col1\" class=\"data row2 col1\" >$3.35</td>\n",
       "                        <td id=\"T_a4c241ed_f306_11ea_b0b3_90324b3feb1arow2_col2\" class=\"data row2 col2\" >50.190000</td>\n",
       "                        <td id=\"T_a4c241ed_f306_11ea_b0b3_90324b3feb1arow2_col3\" class=\"data row2 col3\" >$4.56</td>\n",
       "            </tr>\n",
       "    </tbody></table>"
      ],
      "text/plain": [
       "<pandas.io.formats.style.Styler at 0x2cfda7a3a60>"
      ]
     },
     "execution_count": 18,
     "metadata": {},
     "output_type": "execute_result"
    }
   ],
   "source": [
    "# format with currency style\n",
    "gender_demographics.style.format({\"Average Purchase Value\":\"${:,.2f}\",\n",
    "                                  \"Average Purchase Price\":\"${:,.2f}\",\n",
    "                                  \"Avg Purchase Total per Person\":\"${:,.2f}\"})"
   ]
  },
  {
   "cell_type": "code",
   "execution_count": 19,
   "metadata": {},
   "outputs": [],
   "source": [
    "# AGE DEMOGRAPHICS\n",
    "# establish bins for ages\n",
    "age_bins = [0, 9.90, 14.90, 19.90, 24.90, 29.90, 34.90, 39.90, 99999]\n",
    "group_names = [\"<10\", \"10-14\", \"15-19\", \"20-24\", \"25-29\", \"30-34\", \"35-39\", \"40+\"]"
   ]
  },
  {
   "cell_type": "code",
   "execution_count": 20,
   "metadata": {},
   "outputs": [],
   "source": [
    "# categorize existing players using age bins\n",
    "purchase_data[\"Age Group\"] = pd.cut(purchase_data[\"Age\"],age_bins, labels=group_names)"
   ]
  },
  {
   "cell_type": "code",
   "execution_count": 21,
   "metadata": {},
   "outputs": [],
   "source": [
    "# create new data frame with the added \"Age Group\" and group it\n",
    "age_grouped = purchase_data.groupby(\"Age Group\")"
   ]
  },
  {
   "cell_type": "code",
   "execution_count": 22,
   "metadata": {},
   "outputs": [],
   "source": [
    "# count total players by age category\n",
    "total_count_age = age_grouped[\"SN\"].nunique()"
   ]
  },
  {
   "cell_type": "code",
   "execution_count": 23,
   "metadata": {},
   "outputs": [],
   "source": [
    "# calculate percentages by age category \n",
    "percentage_by_age = (total_count_age/total_players) * 100"
   ]
  },
  {
   "cell_type": "code",
   "execution_count": 24,
   "metadata": {},
   "outputs": [],
   "source": [
    "# create data frame with obtained values\n",
    "age_demographics = pd.DataFrame({\"Percentage of Players\": percentage_by_age, \"Total Count\": total_count_age})"
   ]
  },
  {
   "cell_type": "code",
   "execution_count": 25,
   "metadata": {},
   "outputs": [],
   "source": [
    "# format the data frame with no index name in the corner\n",
    "age_demographics.index.name = None"
   ]
  },
  {
   "cell_type": "code",
   "execution_count": 26,
   "metadata": {
    "scrolled": true
   },
   "outputs": [
    {
     "data": {
      "text/html": [
       "<style  type=\"text/css\" >\n",
       "</style><table id=\"T_a637958d_f306_11ea_accf_90324b3feb1a\" ><thead>    <tr>        <th class=\"blank level0\" ></th>        <th class=\"col_heading level0 col0\" >Percentage of Players</th>        <th class=\"col_heading level0 col1\" >Total Count</th>    </tr></thead><tbody>\n",
       "                <tr>\n",
       "                        <th id=\"T_a637958d_f306_11ea_accf_90324b3feb1alevel0_row0\" class=\"row_heading level0 row0\" ><10</th>\n",
       "                        <td id=\"T_a637958d_f306_11ea_accf_90324b3feb1arow0_col0\" class=\"data row0 col0\" >2.95</td>\n",
       "                        <td id=\"T_a637958d_f306_11ea_accf_90324b3feb1arow0_col1\" class=\"data row0 col1\" >17</td>\n",
       "            </tr>\n",
       "            <tr>\n",
       "                        <th id=\"T_a637958d_f306_11ea_accf_90324b3feb1alevel0_row1\" class=\"row_heading level0 row1\" >10-14</th>\n",
       "                        <td id=\"T_a637958d_f306_11ea_accf_90324b3feb1arow1_col0\" class=\"data row1 col0\" >3.82</td>\n",
       "                        <td id=\"T_a637958d_f306_11ea_accf_90324b3feb1arow1_col1\" class=\"data row1 col1\" >22</td>\n",
       "            </tr>\n",
       "            <tr>\n",
       "                        <th id=\"T_a637958d_f306_11ea_accf_90324b3feb1alevel0_row2\" class=\"row_heading level0 row2\" >15-19</th>\n",
       "                        <td id=\"T_a637958d_f306_11ea_accf_90324b3feb1arow2_col0\" class=\"data row2 col0\" >18.58</td>\n",
       "                        <td id=\"T_a637958d_f306_11ea_accf_90324b3feb1arow2_col1\" class=\"data row2 col1\" >107</td>\n",
       "            </tr>\n",
       "            <tr>\n",
       "                        <th id=\"T_a637958d_f306_11ea_accf_90324b3feb1alevel0_row3\" class=\"row_heading level0 row3\" >20-24</th>\n",
       "                        <td id=\"T_a637958d_f306_11ea_accf_90324b3feb1arow3_col0\" class=\"data row3 col0\" >44.79</td>\n",
       "                        <td id=\"T_a637958d_f306_11ea_accf_90324b3feb1arow3_col1\" class=\"data row3 col1\" >258</td>\n",
       "            </tr>\n",
       "            <tr>\n",
       "                        <th id=\"T_a637958d_f306_11ea_accf_90324b3feb1alevel0_row4\" class=\"row_heading level0 row4\" >25-29</th>\n",
       "                        <td id=\"T_a637958d_f306_11ea_accf_90324b3feb1arow4_col0\" class=\"data row4 col0\" >13.37</td>\n",
       "                        <td id=\"T_a637958d_f306_11ea_accf_90324b3feb1arow4_col1\" class=\"data row4 col1\" >77</td>\n",
       "            </tr>\n",
       "            <tr>\n",
       "                        <th id=\"T_a637958d_f306_11ea_accf_90324b3feb1alevel0_row5\" class=\"row_heading level0 row5\" >30-34</th>\n",
       "                        <td id=\"T_a637958d_f306_11ea_accf_90324b3feb1arow5_col0\" class=\"data row5 col0\" >9.03</td>\n",
       "                        <td id=\"T_a637958d_f306_11ea_accf_90324b3feb1arow5_col1\" class=\"data row5 col1\" >52</td>\n",
       "            </tr>\n",
       "            <tr>\n",
       "                        <th id=\"T_a637958d_f306_11ea_accf_90324b3feb1alevel0_row6\" class=\"row_heading level0 row6\" >35-39</th>\n",
       "                        <td id=\"T_a637958d_f306_11ea_accf_90324b3feb1arow6_col0\" class=\"data row6 col0\" >5.38</td>\n",
       "                        <td id=\"T_a637958d_f306_11ea_accf_90324b3feb1arow6_col1\" class=\"data row6 col1\" >31</td>\n",
       "            </tr>\n",
       "            <tr>\n",
       "                        <th id=\"T_a637958d_f306_11ea_accf_90324b3feb1alevel0_row7\" class=\"row_heading level0 row7\" >40+</th>\n",
       "                        <td id=\"T_a637958d_f306_11ea_accf_90324b3feb1arow7_col0\" class=\"data row7 col0\" >2.08</td>\n",
       "                        <td id=\"T_a637958d_f306_11ea_accf_90324b3feb1arow7_col1\" class=\"data row7 col1\" >12</td>\n",
       "            </tr>\n",
       "    </tbody></table>"
      ],
      "text/plain": [
       "<pandas.io.formats.style.Styler at 0x2cfda80a490>"
      ]
     },
     "execution_count": 26,
     "metadata": {},
     "output_type": "execute_result"
    }
   ],
   "source": [
    "# format percentage with two decimal places \n",
    "age_demographics.style.format({\"Percentage of Players\":\"{:,.2f}\"})"
   ]
  },
  {
   "cell_type": "code",
   "execution_count": 27,
   "metadata": {},
   "outputs": [],
   "source": [
    "# PURCHASING ANALYSIS BY AGE\n",
    "# count purchases by age group\n",
    "purchase_count_age = age_grouped[\"Purchase ID\"].count()"
   ]
  },
  {
   "cell_type": "code",
   "execution_count": 28,
   "metadata": {},
   "outputs": [],
   "source": [
    "# obtain average purchase price by age group \n",
    "avg_purchase_price_age = age_grouped[\"Price\"].mean()"
   ]
  },
  {
   "cell_type": "code",
   "execution_count": 29,
   "metadata": {},
   "outputs": [],
   "source": [
    "# calculate total purchase value by age group \n",
    "total_purchase_value = age_grouped[\"Price\"].sum()"
   ]
  },
  {
   "cell_type": "code",
   "execution_count": 30,
   "metadata": {},
   "outputs": [],
   "source": [
    "# calculate the average purchase per person in the age group \n",
    "avg_purchase_per_person_age = total_purchase_value/total_count_age"
   ]
  },
  {
   "cell_type": "code",
   "execution_count": 31,
   "metadata": {},
   "outputs": [],
   "source": [
    "# create data frame with obtained values\n",
    "age_demographics = pd.DataFrame({\"Purchase Count\": purchase_count_age,\n",
    "                                 \"Average Purchase Price\": avg_purchase_price_age,\n",
    "                                 \"Total Purchase Value\":total_purchase_value,\n",
    "                                 \"Average Purchase Total per Person\": avg_purchase_per_person_age})"
   ]
  },
  {
   "cell_type": "code",
   "execution_count": 32,
   "metadata": {},
   "outputs": [],
   "source": [
    "# format the data frame with no index name in the corner\n",
    "age_demographics.index.name = None"
   ]
  },
  {
   "cell_type": "code",
   "execution_count": 33,
   "metadata": {},
   "outputs": [
    {
     "data": {
      "text/html": [
       "<style  type=\"text/css\" >\n",
       "</style><table id=\"T_a7a4370e_f306_11ea_8ccb_90324b3feb1a\" ><thead>    <tr>        <th class=\"blank level0\" ></th>        <th class=\"col_heading level0 col0\" >Purchase Count</th>        <th class=\"col_heading level0 col1\" >Average Purchase Price</th>        <th class=\"col_heading level0 col2\" >Total Purchase Value</th>        <th class=\"col_heading level0 col3\" >Average Purchase Total per Person</th>    </tr></thead><tbody>\n",
       "                <tr>\n",
       "                        <th id=\"T_a7a4370e_f306_11ea_8ccb_90324b3feb1alevel0_row0\" class=\"row_heading level0 row0\" ><10</th>\n",
       "                        <td id=\"T_a7a4370e_f306_11ea_8ccb_90324b3feb1arow0_col0\" class=\"data row0 col0\" >23</td>\n",
       "                        <td id=\"T_a7a4370e_f306_11ea_8ccb_90324b3feb1arow0_col1\" class=\"data row0 col1\" >$3.35</td>\n",
       "                        <td id=\"T_a7a4370e_f306_11ea_8ccb_90324b3feb1arow0_col2\" class=\"data row0 col2\" >$77.13</td>\n",
       "                        <td id=\"T_a7a4370e_f306_11ea_8ccb_90324b3feb1arow0_col3\" class=\"data row0 col3\" >$4.54</td>\n",
       "            </tr>\n",
       "            <tr>\n",
       "                        <th id=\"T_a7a4370e_f306_11ea_8ccb_90324b3feb1alevel0_row1\" class=\"row_heading level0 row1\" >10-14</th>\n",
       "                        <td id=\"T_a7a4370e_f306_11ea_8ccb_90324b3feb1arow1_col0\" class=\"data row1 col0\" >28</td>\n",
       "                        <td id=\"T_a7a4370e_f306_11ea_8ccb_90324b3feb1arow1_col1\" class=\"data row1 col1\" >$2.96</td>\n",
       "                        <td id=\"T_a7a4370e_f306_11ea_8ccb_90324b3feb1arow1_col2\" class=\"data row1 col2\" >$82.78</td>\n",
       "                        <td id=\"T_a7a4370e_f306_11ea_8ccb_90324b3feb1arow1_col3\" class=\"data row1 col3\" >$3.76</td>\n",
       "            </tr>\n",
       "            <tr>\n",
       "                        <th id=\"T_a7a4370e_f306_11ea_8ccb_90324b3feb1alevel0_row2\" class=\"row_heading level0 row2\" >15-19</th>\n",
       "                        <td id=\"T_a7a4370e_f306_11ea_8ccb_90324b3feb1arow2_col0\" class=\"data row2 col0\" >136</td>\n",
       "                        <td id=\"T_a7a4370e_f306_11ea_8ccb_90324b3feb1arow2_col1\" class=\"data row2 col1\" >$3.04</td>\n",
       "                        <td id=\"T_a7a4370e_f306_11ea_8ccb_90324b3feb1arow2_col2\" class=\"data row2 col2\" >$412.89</td>\n",
       "                        <td id=\"T_a7a4370e_f306_11ea_8ccb_90324b3feb1arow2_col3\" class=\"data row2 col3\" >$3.86</td>\n",
       "            </tr>\n",
       "            <tr>\n",
       "                        <th id=\"T_a7a4370e_f306_11ea_8ccb_90324b3feb1alevel0_row3\" class=\"row_heading level0 row3\" >20-24</th>\n",
       "                        <td id=\"T_a7a4370e_f306_11ea_8ccb_90324b3feb1arow3_col0\" class=\"data row3 col0\" >365</td>\n",
       "                        <td id=\"T_a7a4370e_f306_11ea_8ccb_90324b3feb1arow3_col1\" class=\"data row3 col1\" >$3.05</td>\n",
       "                        <td id=\"T_a7a4370e_f306_11ea_8ccb_90324b3feb1arow3_col2\" class=\"data row3 col2\" >$1,114.06</td>\n",
       "                        <td id=\"T_a7a4370e_f306_11ea_8ccb_90324b3feb1arow3_col3\" class=\"data row3 col3\" >$4.32</td>\n",
       "            </tr>\n",
       "            <tr>\n",
       "                        <th id=\"T_a7a4370e_f306_11ea_8ccb_90324b3feb1alevel0_row4\" class=\"row_heading level0 row4\" >25-29</th>\n",
       "                        <td id=\"T_a7a4370e_f306_11ea_8ccb_90324b3feb1arow4_col0\" class=\"data row4 col0\" >101</td>\n",
       "                        <td id=\"T_a7a4370e_f306_11ea_8ccb_90324b3feb1arow4_col1\" class=\"data row4 col1\" >$2.90</td>\n",
       "                        <td id=\"T_a7a4370e_f306_11ea_8ccb_90324b3feb1arow4_col2\" class=\"data row4 col2\" >$293.00</td>\n",
       "                        <td id=\"T_a7a4370e_f306_11ea_8ccb_90324b3feb1arow4_col3\" class=\"data row4 col3\" >$3.81</td>\n",
       "            </tr>\n",
       "            <tr>\n",
       "                        <th id=\"T_a7a4370e_f306_11ea_8ccb_90324b3feb1alevel0_row5\" class=\"row_heading level0 row5\" >30-34</th>\n",
       "                        <td id=\"T_a7a4370e_f306_11ea_8ccb_90324b3feb1arow5_col0\" class=\"data row5 col0\" >73</td>\n",
       "                        <td id=\"T_a7a4370e_f306_11ea_8ccb_90324b3feb1arow5_col1\" class=\"data row5 col1\" >$2.93</td>\n",
       "                        <td id=\"T_a7a4370e_f306_11ea_8ccb_90324b3feb1arow5_col2\" class=\"data row5 col2\" >$214.00</td>\n",
       "                        <td id=\"T_a7a4370e_f306_11ea_8ccb_90324b3feb1arow5_col3\" class=\"data row5 col3\" >$4.12</td>\n",
       "            </tr>\n",
       "            <tr>\n",
       "                        <th id=\"T_a7a4370e_f306_11ea_8ccb_90324b3feb1alevel0_row6\" class=\"row_heading level0 row6\" >35-39</th>\n",
       "                        <td id=\"T_a7a4370e_f306_11ea_8ccb_90324b3feb1arow6_col0\" class=\"data row6 col0\" >41</td>\n",
       "                        <td id=\"T_a7a4370e_f306_11ea_8ccb_90324b3feb1arow6_col1\" class=\"data row6 col1\" >$3.60</td>\n",
       "                        <td id=\"T_a7a4370e_f306_11ea_8ccb_90324b3feb1arow6_col2\" class=\"data row6 col2\" >$147.67</td>\n",
       "                        <td id=\"T_a7a4370e_f306_11ea_8ccb_90324b3feb1arow6_col3\" class=\"data row6 col3\" >$4.76</td>\n",
       "            </tr>\n",
       "            <tr>\n",
       "                        <th id=\"T_a7a4370e_f306_11ea_8ccb_90324b3feb1alevel0_row7\" class=\"row_heading level0 row7\" >40+</th>\n",
       "                        <td id=\"T_a7a4370e_f306_11ea_8ccb_90324b3feb1arow7_col0\" class=\"data row7 col0\" >13</td>\n",
       "                        <td id=\"T_a7a4370e_f306_11ea_8ccb_90324b3feb1arow7_col1\" class=\"data row7 col1\" >$2.94</td>\n",
       "                        <td id=\"T_a7a4370e_f306_11ea_8ccb_90324b3feb1arow7_col2\" class=\"data row7 col2\" >$38.24</td>\n",
       "                        <td id=\"T_a7a4370e_f306_11ea_8ccb_90324b3feb1arow7_col3\" class=\"data row7 col3\" >$3.19</td>\n",
       "            </tr>\n",
       "    </tbody></table>"
      ],
      "text/plain": [
       "<pandas.io.formats.style.Styler at 0x2cfda80ab80>"
      ]
     },
     "execution_count": 33,
     "metadata": {},
     "output_type": "execute_result"
    }
   ],
   "source": [
    "# format with currency style\n",
    "age_demographics.style.format({\"Average Purchase Price\":\"${:,.2f}\",\n",
    "                               \"Total Purchase Value\":\"${:,.2f}\",\n",
    "                               \"Average Purchase Total per Person\":\"${:,.2f}\"})"
   ]
  },
  {
   "cell_type": "code",
   "execution_count": 34,
   "metadata": {},
   "outputs": [],
   "source": [
    "# TOP SPENDERS\n",
    "# group purchase data by screen names\n",
    "spender_stats = purchase_data.groupby(\"SN\")"
   ]
  },
  {
   "cell_type": "code",
   "execution_count": 35,
   "metadata": {},
   "outputs": [],
   "source": [
    "# count the total purchases by name\n",
    "purchase_count_spender = spender_stats[\"Purchase ID\"].count()"
   ]
  },
  {
   "cell_type": "code",
   "execution_count": 36,
   "metadata": {},
   "outputs": [],
   "source": [
    "# calculate the average purchase by name \n",
    "avg_purchase_price_spender = spender_stats[\"Price\"].mean()"
   ]
  },
  {
   "cell_type": "code",
   "execution_count": 37,
   "metadata": {},
   "outputs": [],
   "source": [
    "# calculate purchase total \n",
    "purchase_total_spender = spender_stats[\"Price\"].sum()"
   ]
  },
  {
   "cell_type": "code",
   "execution_count": 38,
   "metadata": {},
   "outputs": [],
   "source": [
    "# create data frame with obtained values\n",
    "top_spenders = pd.DataFrame({\"Purchase Count\": purchase_count_spender,\n",
    "                             \"Average Purchase Price\": avg_purchase_price_spender,\n",
    "                             \"Total Purchase Value\":purchase_total_spender})"
   ]
  },
  {
   "cell_type": "code",
   "execution_count": 39,
   "metadata": {},
   "outputs": [],
   "source": [
    "# sort in descending order to obtain top 5 spender names \n",
    "formatted_spenders = top_spenders.sort_values([\"Total Purchase Value\"], ascending=False).head()"
   ]
  },
  {
   "cell_type": "code",
   "execution_count": 40,
   "metadata": {},
   "outputs": [
    {
     "data": {
      "text/html": [
       "<style  type=\"text/css\" >\n",
       "</style><table id=\"T_a8b7803b_f306_11ea_ab50_90324b3feb1a\" ><thead>    <tr>        <th class=\"blank level0\" ></th>        <th class=\"col_heading level0 col0\" >Purchase Count</th>        <th class=\"col_heading level0 col1\" >Average Purchase Price</th>        <th class=\"col_heading level0 col2\" >Total Purchase Value</th>    </tr>    <tr>        <th class=\"index_name level0\" >SN</th>        <th class=\"blank\" ></th>        <th class=\"blank\" ></th>        <th class=\"blank\" ></th>    </tr></thead><tbody>\n",
       "                <tr>\n",
       "                        <th id=\"T_a8b7803b_f306_11ea_ab50_90324b3feb1alevel0_row0\" class=\"row_heading level0 row0\" >Lisosia93</th>\n",
       "                        <td id=\"T_a8b7803b_f306_11ea_ab50_90324b3feb1arow0_col0\" class=\"data row0 col0\" >5</td>\n",
       "                        <td id=\"T_a8b7803b_f306_11ea_ab50_90324b3feb1arow0_col1\" class=\"data row0 col1\" >$3.79</td>\n",
       "                        <td id=\"T_a8b7803b_f306_11ea_ab50_90324b3feb1arow0_col2\" class=\"data row0 col2\" >$18.96</td>\n",
       "            </tr>\n",
       "            <tr>\n",
       "                        <th id=\"T_a8b7803b_f306_11ea_ab50_90324b3feb1alevel0_row1\" class=\"row_heading level0 row1\" >Idastidru52</th>\n",
       "                        <td id=\"T_a8b7803b_f306_11ea_ab50_90324b3feb1arow1_col0\" class=\"data row1 col0\" >4</td>\n",
       "                        <td id=\"T_a8b7803b_f306_11ea_ab50_90324b3feb1arow1_col1\" class=\"data row1 col1\" >$3.86</td>\n",
       "                        <td id=\"T_a8b7803b_f306_11ea_ab50_90324b3feb1arow1_col2\" class=\"data row1 col2\" >$15.45</td>\n",
       "            </tr>\n",
       "            <tr>\n",
       "                        <th id=\"T_a8b7803b_f306_11ea_ab50_90324b3feb1alevel0_row2\" class=\"row_heading level0 row2\" >Chamjask73</th>\n",
       "                        <td id=\"T_a8b7803b_f306_11ea_ab50_90324b3feb1arow2_col0\" class=\"data row2 col0\" >3</td>\n",
       "                        <td id=\"T_a8b7803b_f306_11ea_ab50_90324b3feb1arow2_col1\" class=\"data row2 col1\" >$4.61</td>\n",
       "                        <td id=\"T_a8b7803b_f306_11ea_ab50_90324b3feb1arow2_col2\" class=\"data row2 col2\" >$13.83</td>\n",
       "            </tr>\n",
       "            <tr>\n",
       "                        <th id=\"T_a8b7803b_f306_11ea_ab50_90324b3feb1alevel0_row3\" class=\"row_heading level0 row3\" >Iral74</th>\n",
       "                        <td id=\"T_a8b7803b_f306_11ea_ab50_90324b3feb1arow3_col0\" class=\"data row3 col0\" >4</td>\n",
       "                        <td id=\"T_a8b7803b_f306_11ea_ab50_90324b3feb1arow3_col1\" class=\"data row3 col1\" >$3.40</td>\n",
       "                        <td id=\"T_a8b7803b_f306_11ea_ab50_90324b3feb1arow3_col2\" class=\"data row3 col2\" >$13.62</td>\n",
       "            </tr>\n",
       "            <tr>\n",
       "                        <th id=\"T_a8b7803b_f306_11ea_ab50_90324b3feb1alevel0_row4\" class=\"row_heading level0 row4\" >Iskadarya95</th>\n",
       "                        <td id=\"T_a8b7803b_f306_11ea_ab50_90324b3feb1arow4_col0\" class=\"data row4 col0\" >3</td>\n",
       "                        <td id=\"T_a8b7803b_f306_11ea_ab50_90324b3feb1arow4_col1\" class=\"data row4 col1\" >$4.37</td>\n",
       "                        <td id=\"T_a8b7803b_f306_11ea_ab50_90324b3feb1arow4_col2\" class=\"data row4 col2\" >$13.10</td>\n",
       "            </tr>\n",
       "    </tbody></table>"
      ],
      "text/plain": [
       "<pandas.io.formats.style.Styler at 0x2cfda817430>"
      ]
     },
     "execution_count": 40,
     "metadata": {},
     "output_type": "execute_result"
    }
   ],
   "source": [
    "# format with currency style\n",
    "formatted_spenders.style.format({\"Average Purchase Total\":\"${:,.2f}\",\n",
    "                                 \"Average Purchase Price\":\"${:,.2f}\", \n",
    "                                 \"Total Purchase Value\":\"${:,.2f}\"})"
   ]
  },
  {
   "cell_type": "code",
   "execution_count": 41,
   "metadata": {},
   "outputs": [],
   "source": [
    "# MOST POPULAR ITEMS\n",
    "# create new data frame with items related information \n",
    "items = purchase_data[[\"Item ID\", \"Item Name\", \"Price\"]]"
   ]
  },
  {
   "cell_type": "code",
   "execution_count": 42,
   "metadata": {},
   "outputs": [],
   "source": [
    "# group the item data by item id and item name \n",
    "item_stats = items.groupby([\"Item ID\",\"Item Name\"])"
   ]
  },
  {
   "cell_type": "code",
   "execution_count": 43,
   "metadata": {},
   "outputs": [],
   "source": [
    "# count the number of times an item has been purchased \n",
    "purchase_count_item = item_stats[\"Price\"].count()"
   ]
  },
  {
   "cell_type": "code",
   "execution_count": 48,
   "metadata": {},
   "outputs": [],
   "source": [
    "# calculate the purchase value per item \n",
    "purchase_value = (item_stats[\"Price\"].sum()) "
   ]
  },
  {
   "cell_type": "code",
   "execution_count": 49,
   "metadata": {},
   "outputs": [],
   "source": [
    "# find individual item price\n",
    "item_price = purchase_value/purchase_count_item"
   ]
  },
  {
   "cell_type": "code",
   "execution_count": 50,
   "metadata": {},
   "outputs": [],
   "source": [
    "# create data frame with obtained values\n",
    "most_popular_items = pd.DataFrame({\"Purchase Count\": purchase_count_item, \n",
    "                                   \"Item Price\": item_price,\n",
    "                                   \"Total Purchase Value\":purchase_value})"
   ]
  },
  {
   "cell_type": "code",
   "execution_count": 51,
   "metadata": {},
   "outputs": [],
   "source": [
    "# sort in descending order to obtain top spender names and provide top five item names\n",
    "popular_formatted = most_popular_items.sort_values([\"Purchase Count\"], ascending=False).head()"
   ]
  },
  {
   "cell_type": "code",
   "execution_count": 52,
   "metadata": {},
   "outputs": [
    {
     "data": {
      "text/html": [
       "<style  type=\"text/css\" >\n",
       "</style><table id=\"T_b382e2af_f306_11ea_9376_90324b3feb1a\" ><thead>    <tr>        <th class=\"blank\" ></th>        <th class=\"blank level0\" ></th>        <th class=\"col_heading level0 col0\" >Purchase Count</th>        <th class=\"col_heading level0 col1\" >Item Price</th>        <th class=\"col_heading level0 col2\" >Total Purchase Value</th>    </tr>    <tr>        <th class=\"index_name level0\" >Item ID</th>        <th class=\"index_name level1\" >Item Name</th>        <th class=\"blank\" ></th>        <th class=\"blank\" ></th>        <th class=\"blank\" ></th>    </tr></thead><tbody>\n",
       "                <tr>\n",
       "                        <th id=\"T_b382e2af_f306_11ea_9376_90324b3feb1alevel0_row0\" class=\"row_heading level0 row0\" >92</th>\n",
       "                        <th id=\"T_b382e2af_f306_11ea_9376_90324b3feb1alevel1_row0\" class=\"row_heading level1 row0\" >Final Critic</th>\n",
       "                        <td id=\"T_b382e2af_f306_11ea_9376_90324b3feb1arow0_col0\" class=\"data row0 col0\" >13</td>\n",
       "                        <td id=\"T_b382e2af_f306_11ea_9376_90324b3feb1arow0_col1\" class=\"data row0 col1\" >$4.61</td>\n",
       "                        <td id=\"T_b382e2af_f306_11ea_9376_90324b3feb1arow0_col2\" class=\"data row0 col2\" >$59.99</td>\n",
       "            </tr>\n",
       "            <tr>\n",
       "                        <th id=\"T_b382e2af_f306_11ea_9376_90324b3feb1alevel0_row1\" class=\"row_heading level0 row1\" >178</th>\n",
       "                        <th id=\"T_b382e2af_f306_11ea_9376_90324b3feb1alevel1_row1\" class=\"row_heading level1 row1\" >Oathbreaker, Last Hope of the Breaking Storm</th>\n",
       "                        <td id=\"T_b382e2af_f306_11ea_9376_90324b3feb1arow1_col0\" class=\"data row1 col0\" >12</td>\n",
       "                        <td id=\"T_b382e2af_f306_11ea_9376_90324b3feb1arow1_col1\" class=\"data row1 col1\" >$4.23</td>\n",
       "                        <td id=\"T_b382e2af_f306_11ea_9376_90324b3feb1arow1_col2\" class=\"data row1 col2\" >$50.76</td>\n",
       "            </tr>\n",
       "            <tr>\n",
       "                        <th id=\"T_b382e2af_f306_11ea_9376_90324b3feb1alevel0_row2\" class=\"row_heading level0 row2\" >145</th>\n",
       "                        <th id=\"T_b382e2af_f306_11ea_9376_90324b3feb1alevel1_row2\" class=\"row_heading level1 row2\" >Fiery Glass Crusader</th>\n",
       "                        <td id=\"T_b382e2af_f306_11ea_9376_90324b3feb1arow2_col0\" class=\"data row2 col0\" >9</td>\n",
       "                        <td id=\"T_b382e2af_f306_11ea_9376_90324b3feb1arow2_col1\" class=\"data row2 col1\" >$4.58</td>\n",
       "                        <td id=\"T_b382e2af_f306_11ea_9376_90324b3feb1arow2_col2\" class=\"data row2 col2\" >$41.22</td>\n",
       "            </tr>\n",
       "            <tr>\n",
       "                        <th id=\"T_b382e2af_f306_11ea_9376_90324b3feb1alevel0_row3\" class=\"row_heading level0 row3\" >132</th>\n",
       "                        <th id=\"T_b382e2af_f306_11ea_9376_90324b3feb1alevel1_row3\" class=\"row_heading level1 row3\" >Persuasion</th>\n",
       "                        <td id=\"T_b382e2af_f306_11ea_9376_90324b3feb1arow3_col0\" class=\"data row3 col0\" >9</td>\n",
       "                        <td id=\"T_b382e2af_f306_11ea_9376_90324b3feb1arow3_col1\" class=\"data row3 col1\" >$3.22</td>\n",
       "                        <td id=\"T_b382e2af_f306_11ea_9376_90324b3feb1arow3_col2\" class=\"data row3 col2\" >$28.99</td>\n",
       "            </tr>\n",
       "            <tr>\n",
       "                        <th id=\"T_b382e2af_f306_11ea_9376_90324b3feb1alevel0_row4\" class=\"row_heading level0 row4\" >108</th>\n",
       "                        <th id=\"T_b382e2af_f306_11ea_9376_90324b3feb1alevel1_row4\" class=\"row_heading level1 row4\" >Extraction, Quickblade Of Trembling Hands</th>\n",
       "                        <td id=\"T_b382e2af_f306_11ea_9376_90324b3feb1arow4_col0\" class=\"data row4 col0\" >9</td>\n",
       "                        <td id=\"T_b382e2af_f306_11ea_9376_90324b3feb1arow4_col1\" class=\"data row4 col1\" >$3.53</td>\n",
       "                        <td id=\"T_b382e2af_f306_11ea_9376_90324b3feb1arow4_col2\" class=\"data row4 col2\" >$31.77</td>\n",
       "            </tr>\n",
       "    </tbody></table>"
      ],
      "text/plain": [
       "<pandas.io.formats.style.Styler at 0x2cfda824970>"
      ]
     },
     "execution_count": 52,
     "metadata": {},
     "output_type": "execute_result"
    }
   ],
   "source": [
    "# format with currency style\n",
    "popular_formatted.style.format({\"Item Price\":\"${:,.2f}\",\n",
    "                                \"Total Purchase Value\":\"${:,.2f}\"})"
   ]
  },
  {
   "cell_type": "code",
   "execution_count": 53,
   "metadata": {},
   "outputs": [],
   "source": [
    "# MOST PROFITABLE ITEMS\n",
    "# take the most_popular items data frame and change the sorting to find highest total purchase value\n",
    "popular_formatted = most_popular_items.sort_values([\"Total Purchase Value\"],\n",
    "                                                   ascending=False).head()"
   ]
  },
  {
   "cell_type": "code",
   "execution_count": 54,
   "metadata": {
    "scrolled": true
   },
   "outputs": [
    {
     "data": {
      "text/html": [
       "<style  type=\"text/css\" >\n",
       "</style><table id=\"T_b3c4ba6e_f306_11ea_b5b8_90324b3feb1a\" ><thead>    <tr>        <th class=\"blank\" ></th>        <th class=\"blank level0\" ></th>        <th class=\"col_heading level0 col0\" >Purchase Count</th>        <th class=\"col_heading level0 col1\" >Item Price</th>        <th class=\"col_heading level0 col2\" >Total Purchase Value</th>    </tr>    <tr>        <th class=\"index_name level0\" >Item ID</th>        <th class=\"index_name level1\" >Item Name</th>        <th class=\"blank\" ></th>        <th class=\"blank\" ></th>        <th class=\"blank\" ></th>    </tr></thead><tbody>\n",
       "                <tr>\n",
       "                        <th id=\"T_b3c4ba6e_f306_11ea_b5b8_90324b3feb1alevel0_row0\" class=\"row_heading level0 row0\" >92</th>\n",
       "                        <th id=\"T_b3c4ba6e_f306_11ea_b5b8_90324b3feb1alevel1_row0\" class=\"row_heading level1 row0\" >Final Critic</th>\n",
       "                        <td id=\"T_b3c4ba6e_f306_11ea_b5b8_90324b3feb1arow0_col0\" class=\"data row0 col0\" >13</td>\n",
       "                        <td id=\"T_b3c4ba6e_f306_11ea_b5b8_90324b3feb1arow0_col1\" class=\"data row0 col1\" >$4.61</td>\n",
       "                        <td id=\"T_b3c4ba6e_f306_11ea_b5b8_90324b3feb1arow0_col2\" class=\"data row0 col2\" >$59.99</td>\n",
       "            </tr>\n",
       "            <tr>\n",
       "                        <th id=\"T_b3c4ba6e_f306_11ea_b5b8_90324b3feb1alevel0_row1\" class=\"row_heading level0 row1\" >178</th>\n",
       "                        <th id=\"T_b3c4ba6e_f306_11ea_b5b8_90324b3feb1alevel1_row1\" class=\"row_heading level1 row1\" >Oathbreaker, Last Hope of the Breaking Storm</th>\n",
       "                        <td id=\"T_b3c4ba6e_f306_11ea_b5b8_90324b3feb1arow1_col0\" class=\"data row1 col0\" >12</td>\n",
       "                        <td id=\"T_b3c4ba6e_f306_11ea_b5b8_90324b3feb1arow1_col1\" class=\"data row1 col1\" >$4.23</td>\n",
       "                        <td id=\"T_b3c4ba6e_f306_11ea_b5b8_90324b3feb1arow1_col2\" class=\"data row1 col2\" >$50.76</td>\n",
       "            </tr>\n",
       "            <tr>\n",
       "                        <th id=\"T_b3c4ba6e_f306_11ea_b5b8_90324b3feb1alevel0_row2\" class=\"row_heading level0 row2\" >82</th>\n",
       "                        <th id=\"T_b3c4ba6e_f306_11ea_b5b8_90324b3feb1alevel1_row2\" class=\"row_heading level1 row2\" >Nirvana</th>\n",
       "                        <td id=\"T_b3c4ba6e_f306_11ea_b5b8_90324b3feb1arow2_col0\" class=\"data row2 col0\" >9</td>\n",
       "                        <td id=\"T_b3c4ba6e_f306_11ea_b5b8_90324b3feb1arow2_col1\" class=\"data row2 col1\" >$4.90</td>\n",
       "                        <td id=\"T_b3c4ba6e_f306_11ea_b5b8_90324b3feb1arow2_col2\" class=\"data row2 col2\" >$44.10</td>\n",
       "            </tr>\n",
       "            <tr>\n",
       "                        <th id=\"T_b3c4ba6e_f306_11ea_b5b8_90324b3feb1alevel0_row3\" class=\"row_heading level0 row3\" >145</th>\n",
       "                        <th id=\"T_b3c4ba6e_f306_11ea_b5b8_90324b3feb1alevel1_row3\" class=\"row_heading level1 row3\" >Fiery Glass Crusader</th>\n",
       "                        <td id=\"T_b3c4ba6e_f306_11ea_b5b8_90324b3feb1arow3_col0\" class=\"data row3 col0\" >9</td>\n",
       "                        <td id=\"T_b3c4ba6e_f306_11ea_b5b8_90324b3feb1arow3_col1\" class=\"data row3 col1\" >$4.58</td>\n",
       "                        <td id=\"T_b3c4ba6e_f306_11ea_b5b8_90324b3feb1arow3_col2\" class=\"data row3 col2\" >$41.22</td>\n",
       "            </tr>\n",
       "            <tr>\n",
       "                        <th id=\"T_b3c4ba6e_f306_11ea_b5b8_90324b3feb1alevel0_row4\" class=\"row_heading level0 row4\" >103</th>\n",
       "                        <th id=\"T_b3c4ba6e_f306_11ea_b5b8_90324b3feb1alevel1_row4\" class=\"row_heading level1 row4\" >Singed Scalpel</th>\n",
       "                        <td id=\"T_b3c4ba6e_f306_11ea_b5b8_90324b3feb1arow4_col0\" class=\"data row4 col0\" >8</td>\n",
       "                        <td id=\"T_b3c4ba6e_f306_11ea_b5b8_90324b3feb1arow4_col1\" class=\"data row4 col1\" >$4.35</td>\n",
       "                        <td id=\"T_b3c4ba6e_f306_11ea_b5b8_90324b3feb1arow4_col2\" class=\"data row4 col2\" >$34.80</td>\n",
       "            </tr>\n",
       "    </tbody></table>"
      ],
      "text/plain": [
       "<pandas.io.formats.style.Styler at 0x2cfda824160>"
      ]
     },
     "execution_count": 54,
     "metadata": {},
     "output_type": "execute_result"
    }
   ],
   "source": [
    "# format with currency style\n",
    "popular_formatted.style.format({\"Item Price\":\"${:,.2f}\",\n",
    "                                \"Total Purchase Value\":\"${:,.2f}\"})"
   ]
  },
  {
   "cell_type": "code",
   "execution_count": null,
   "metadata": {},
   "outputs": [],
   "source": []
  }
 ],
 "metadata": {
  "kernelspec": {
   "display_name": "Python 3",
   "language": "python",
   "name": "python3"
  },
  "language_info": {
   "codemirror_mode": {
    "name": "ipython",
    "version": 3
   },
   "file_extension": ".py",
   "mimetype": "text/x-python",
   "name": "python",
   "nbconvert_exporter": "python",
   "pygments_lexer": "ipython3",
   "version": "3.8.3"
  }
 },
 "nbformat": 4,
 "nbformat_minor": 4
}
